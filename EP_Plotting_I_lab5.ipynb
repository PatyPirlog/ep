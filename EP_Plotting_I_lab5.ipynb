{
  "nbformat": 4,
  "nbformat_minor": 0,
  "metadata": {
    "colab": {
      "name": "EP - Plotting I.ipynb",
      "provenance": [],
      "collapsed_sections": [],
      "include_colab_link": true
    },
    "kernelspec": {
      "name": "python3",
      "display_name": "Python 3"
    }
  },
  "cells": [
    {
      "cell_type": "markdown",
      "metadata": {
        "id": "view-in-github",
        "colab_type": "text"
      },
      "source": [
        "<a href=\"https://colab.research.google.com/github/PatyPirlog/ep/blob/main/EP_Plotting_I_lab5.ipynb\" target=\"_parent\"><img src=\"https://colab.research.google.com/assets/colab-badge.svg\" alt=\"Open In Colab\"/></a>"
      ]
    },
    {
      "cell_type": "markdown",
      "metadata": {
        "id": "wSLRv9ruYTds"
      },
      "source": [
        "# EP - Python Scientific Computing & Basic Plotting (Numpy & Matplotlib) \n",
        "\n",
        "In this lab, we will study a new library in python that offers fast, memory efficient manipulation of vectors, matrices and tensors: **numpy**. We will also study basic plotting of data using the most popular data visualization libraries in the python ecosystem: **matplotlib**. \n"
      ]
    },
    {
      "cell_type": "code",
      "metadata": {
        "id": "Ujj-4TxUU11N"
      },
      "source": [
        "# Some IPython magic\n",
        "# Put these at the top of every notebook, to get automatic reloading and inline plotting\n",
        "%reload_ext autoreload\n",
        "%autoreload 2\n",
        "\n",
        "import numpy as np\n"
      ],
      "execution_count": 5,
      "outputs": []
    },
    {
      "cell_type": "markdown",
      "metadata": {
        "id": "K499Cbl8YYCg"
      },
      "source": [
        "## Python scientific computing ecosystem\n",
        "For scientific computing we need an environment that is easy to use, and provides a couple of tools like manipulating data and visualizing results.\n",
        "Python is very easy to use, but the downside is that it's not fast at numerical computing. Luckily, we have very eficient libraries for all our use-cases."
      ]
    },
    {
      "cell_type": "markdown",
      "metadata": {
        "id": "2QBi51Q2Yan2"
      },
      "source": [
        "## Libraries\n",
        "\n",
        "### Core computing libraries\n",
        "\n",
        "- `numpy` and `scipy`: scientific computing\n",
        "- `matplotlib`: plotting library\n",
        "\n",
        "### Machine Learning\n",
        "- `sklearn`: machine learning toolkit\n",
        "- `tensorflow`: deep learning framework developed by google\n",
        "- `keras`: deep learning framework on top of `tensorflow` for easier implementation\n",
        "- `pytorch`: deep learning framework developed by facebook\n",
        "\n",
        "\n",
        "## Statistics and data analysis\n",
        "- `pandas`: very popular data analysis library\n",
        "- `statsmodels`: statistics\n",
        "\n",
        "We also have advanced interactive environments:\n",
        "- Ipython: advanced python console\n",
        "- Jupyter: notebooks in the browser\n",
        "\n",
        "There are many more scientific libraries available."
      ]
    },
    {
      "cell_type": "markdown",
      "metadata": {
        "id": "MviU1wrrpq63"
      },
      "source": [
        "Check out these cheetsheets for fast reference to the common libraries:\n",
        "\n",
        "**Cheat sheets:**\n",
        "- [python](https://perso.limsi.fr/pointal/_media/python:cours:mementopython3-english.pdf)\n",
        "- [numpy](https://s3.amazonaws.com/assets.datacamp.com/blog_assets/Numpy_Python_Cheat_Sheet.pdf)\n",
        "- [matplotlib](https://s3.amazonaws.com/assets.datacamp.com/blog_assets/Python_Matplotlib_Cheat_Sheet.pdf)\n",
        "- [sklearn](https://s3.amazonaws.com/assets.datacamp.com/blog_assets/Scikit_Learn_Cheat_Sheet_Python.pdf)\n",
        "- [pandas](https://github.com/pandas-dev/pandas/blob/master/doc/cheatsheet/Pandas_Cheat_Sheet.pdf)\n",
        "\n",
        "**Other:**\n",
        "- [Probabilities & Stats Refresher](https://stanford.edu/~shervine/teaching/cs-229/refresher-probabilities-statistics)\n",
        "- [Algebra](https://stanford.edu/~shervine/teaching/cs-229/refresher-algebra-calculus)"
      ]
    },
    {
      "cell_type": "markdown",
      "metadata": {
        "id": "OpIzCcL9YfGN"
      },
      "source": [
        "# numpy\n",
        "`numpy` works with tensors of data, the main data structure is `numpy.array` or `numpy.ndarray`.\n",
        "\n",
        "\n",
        "**Why it is useful:** Memory-efficient container that provides fast numerical operations."
      ]
    },
    {
      "cell_type": "markdown",
      "metadata": {
        "id": "xu0FZxznYiZI"
      },
      "source": [
        "### Speed test"
      ]
    },
    {
      "cell_type": "code",
      "metadata": {
        "id": "WKqIim08YjmH",
        "colab": {
          "base_uri": "https://localhost:8080/"
        },
        "outputId": "64f00f7d-54e3-4619-c00e-7a8d8de66bf7"
      },
      "source": [
        "%timeit [x**2 for x in range(1000)]"
      ],
      "execution_count": null,
      "outputs": [
        {
          "output_type": "stream",
          "text": [
            "1000 loops, best of 3: 270 µs per loop\n"
          ],
          "name": "stdout"
        }
      ]
    },
    {
      "cell_type": "code",
      "metadata": {
        "id": "X8LQHiRNYkRc",
        "colab": {
          "base_uri": "https://localhost:8080/"
        },
        "outputId": "756b11a8-4f19-40e2-f957-a9537a4abc78"
      },
      "source": [
        "%timeit np.arange(1000)**2"
      ],
      "execution_count": null,
      "outputs": [
        {
          "output_type": "stream",
          "text": [
            "The slowest run took 1010.07 times longer than the fastest. This could mean that an intermediate result is being cached.\n",
            "100000 loops, best of 3: 3.72 µs per loop\n"
          ],
          "name": "stdout"
        }
      ]
    },
    {
      "cell_type": "markdown",
      "metadata": {
        "id": "XzIQu2lwpzyh"
      },
      "source": [
        "It is clear that math operations using numpy arrays are far more efficient computation-wise than using plain python lists. More than that, numpy arrays offer a rich API for ***tensor*** manipulation.\n",
        "\n",
        "![](https://miro.medium.com/max/1000/0*jGB1CGQ9HdeUwlgB)"
      ]
    },
    {
      "cell_type": "markdown",
      "metadata": {
        "id": "M89G843GYnTC"
      },
      "source": [
        "### Working with numpy arrays"
      ]
    },
    {
      "cell_type": "markdown",
      "metadata": {
        "id": "YWchMVuSYogH"
      },
      "source": [
        "a few important attributes of the `array` structure: \n",
        "- `ndarray.ndim` - number of axes (tensor rank)\n",
        "- `ndarray.shape` - tuple, gives dimensions of each axes.\n",
        "- `ndarray.size` - size of the array (product of elements of `ndarray.shape`)\n",
        "- `ndarray.dtype` - data type"
      ]
    },
    {
      "cell_type": "code",
      "metadata": {
        "id": "auQWsFfQwX2x",
        "colab": {
          "base_uri": "https://localhost:8080/"
        },
        "outputId": "7638c036-1488-4fba-9d72-34379f0ba9db"
      },
      "source": [
        "a = np.array([[2,7,5],[0,-1,2]])\n",
        "print(a)\n",
        "print(\"Dim:  \",a.ndim)\n",
        "print(\"Shape:\",a.shape)\n",
        "print(\"Size: \",a.size)\n",
        "print(\"Type: \",a.dtype)"
      ],
      "execution_count": null,
      "outputs": [
        {
          "output_type": "stream",
          "text": [
            "[[ 2  7  5]\n",
            " [ 0 -1  2]]\n",
            "Dim:   2\n",
            "Shape: (2, 3)\n",
            "Size:  6\n",
            "Type:  int64\n"
          ],
          "name": "stdout"
        }
      ]
    },
    {
      "cell_type": "markdown",
      "metadata": {
        "id": "01ZW562FwX4s"
      },
      "source": [
        "## Shape Manipulation\n",
        "\n",
        "![](https://fgnt.github.io/python_crashkurs_doc/_images/numpy_array_t.png)"
      ]
    },
    {
      "cell_type": "code",
      "metadata": {
        "id": "1lklVNy8z3Qn",
        "colab": {
          "base_uri": "https://localhost:8080/"
        },
        "outputId": "d2dbadb8-8aa7-4bad-db63-aa0b9de290e9"
      },
      "source": [
        "x = np.array([1,1,2])\n",
        "x.shape"
      ],
      "execution_count": null,
      "outputs": [
        {
          "output_type": "execute_result",
          "data": {
            "text/plain": [
              "(3,)"
            ]
          },
          "metadata": {
            "tags": []
          },
          "execution_count": 5
        }
      ]
    },
    {
      "cell_type": "code",
      "metadata": {
        "id": "SZ1sgELD8WM-",
        "colab": {
          "base_uri": "https://localhost:8080/"
        },
        "outputId": "49569a93-9788-42d5-a080-22739bfce2c8"
      },
      "source": [
        "x.reshape(1,3)"
      ],
      "execution_count": null,
      "outputs": [
        {
          "output_type": "execute_result",
          "data": {
            "text/plain": [
              "array([[1, 1, 2]])"
            ]
          },
          "metadata": {
            "tags": []
          },
          "execution_count": 6
        }
      ]
    },
    {
      "cell_type": "code",
      "metadata": {
        "id": "jU4UgNme-SQF",
        "colab": {
          "base_uri": "https://localhost:8080/",
          "height": 171
        },
        "outputId": "58d904bc-3202-4c98-a5a7-2e6b45f9e3dc"
      },
      "source": [
        "x.reshape(1,4) # this will fail because dimensions don't match"
      ],
      "execution_count": null,
      "outputs": [
        {
          "output_type": "error",
          "ename": "ValueError",
          "evalue": "ignored",
          "traceback": [
            "\u001b[0;31m---------------------------------------------------------------------------\u001b[0m",
            "\u001b[0;31mValueError\u001b[0m                                Traceback (most recent call last)",
            "\u001b[0;32m<ipython-input-7-72e7449de1fa>\u001b[0m in \u001b[0;36m<module>\u001b[0;34m()\u001b[0m\n\u001b[0;32m----> 1\u001b[0;31m \u001b[0mx\u001b[0m\u001b[0;34m.\u001b[0m\u001b[0mreshape\u001b[0m\u001b[0;34m(\u001b[0m\u001b[0;36m1\u001b[0m\u001b[0;34m,\u001b[0m\u001b[0;36m4\u001b[0m\u001b[0;34m)\u001b[0m \u001b[0;31m# this will fail because dimensions don't match\u001b[0m\u001b[0;34m\u001b[0m\u001b[0;34m\u001b[0m\u001b[0m\n\u001b[0m",
            "\u001b[0;31mValueError\u001b[0m: cannot reshape array of size 3 into shape (1,4)"
          ]
        }
      ]
    },
    {
      "cell_type": "code",
      "metadata": {
        "id": "L25uATNM-Tzu"
      },
      "source": [
        "x.reshape(1,-1)"
      ],
      "execution_count": null,
      "outputs": []
    },
    {
      "cell_type": "code",
      "metadata": {
        "id": "g6zrJmO5wX4s"
      },
      "source": [
        "a = np.floor(10*np.random.random((3,4))) # some random matrix\n",
        "a"
      ],
      "execution_count": null,
      "outputs": []
    },
    {
      "cell_type": "code",
      "metadata": {
        "id": "Hfirml0DwX4t"
      },
      "source": [
        "a.shape # a tuple that describes the shape of the object"
      ],
      "execution_count": null,
      "outputs": []
    },
    {
      "cell_type": "code",
      "metadata": {
        "id": "gpne-EfCwX4v"
      },
      "source": [
        "a.ravel() # flattened list"
      ],
      "execution_count": null,
      "outputs": []
    },
    {
      "cell_type": "code",
      "metadata": {
        "id": "sgqokay1wX40"
      },
      "source": [
        "a.T # transpose"
      ],
      "execution_count": null,
      "outputs": []
    },
    {
      "cell_type": "code",
      "metadata": {
        "id": "r1rHzXY6wX41"
      },
      "source": [
        "a.reshape(2,1,-1) # -1 means \"as much as you need\", such that the dimensions maches the size"
      ],
      "execution_count": null,
      "outputs": []
    },
    {
      "cell_type": "markdown",
      "metadata": {
        "id": "Y7LHSdAeZcrM"
      },
      "source": [
        "![](https://i.pinimg.com/originals/79/08/bd/7908bd4f6d0040cb0df7a20de6d814fc.png)"
      ]
    },
    {
      "cell_type": "markdown",
      "metadata": {
        "id": "fZFTLmBlwX21"
      },
      "source": [
        "## Initializing\n",
        "- `np.zeros(shape)`\n",
        "- `np.ones(shape)`\n",
        "- `np.empty(shape)`\n",
        "- `np.eye(rows, cols)`\n",
        "\n",
        "Those functions take as input the shape of an array. \n"
      ]
    },
    {
      "cell_type": "markdown",
      "metadata": {
        "id": "_ooueSlHwX26"
      },
      "source": [
        "## Sequences\n",
        "- `np.arange` - like Python's `range()`, but returns a `np.array`\n",
        "- `np.linspace` - n equidistant points in interval [a,b]\n"
      ]
    },
    {
      "cell_type": "code",
      "metadata": {
        "id": "GH11eahgwX27",
        "colab": {
          "base_uri": "https://localhost:8080/"
        },
        "outputId": "3dec2963-e0e3-434f-db47-3f0539abb02f"
      },
      "source": [
        "np.arange(5)"
      ],
      "execution_count": null,
      "outputs": [
        {
          "output_type": "execute_result",
          "data": {
            "text/plain": [
              "array([0, 1, 2, 3, 4])"
            ]
          },
          "metadata": {
            "tags": []
          },
          "execution_count": 8
        }
      ]
    },
    {
      "cell_type": "code",
      "metadata": {
        "id": "vGZM7stWwX3A",
        "colab": {
          "base_uri": "https://localhost:8080/"
        },
        "outputId": "e59daf8e-f46c-407a-b97b-3722c3898c9f"
      },
      "source": [
        "np.linspace(1, 2, 5)"
      ],
      "execution_count": null,
      "outputs": [
        {
          "output_type": "execute_result",
          "data": {
            "text/plain": [
              "array([1.  , 1.25, 1.5 , 1.75, 2.  ])"
            ]
          },
          "metadata": {
            "tags": []
          },
          "execution_count": 9
        }
      ]
    },
    {
      "cell_type": "markdown",
      "metadata": {
        "id": "xgHrsAXTwX3F"
      },
      "source": [
        "## Math operators\n",
        "Math operators are applied elementwise. ( `*` is never the dot product for numpy arrays!)"
      ]
    },
    {
      "cell_type": "code",
      "metadata": {
        "id": "MBxr2Yb6wX3i",
        "colab": {
          "base_uri": "https://localhost:8080/"
        },
        "outputId": "aef85173-6517-44ed-abf8-ba818d3fa519"
      },
      "source": [
        "a = np.ones((2,3), dtype=int)\n",
        "a *= 3\n",
        "a"
      ],
      "execution_count": null,
      "outputs": [
        {
          "output_type": "execute_result",
          "data": {
            "text/plain": [
              "array([[3, 3, 3],\n",
              "       [3, 3, 3]])"
            ]
          },
          "metadata": {
            "tags": []
          },
          "execution_count": 10
        }
      ]
    },
    {
      "cell_type": "code",
      "metadata": {
        "id": "DougP41myizQ",
        "colab": {
          "base_uri": "https://localhost:8080/"
        },
        "outputId": "eac0f446-511e-4085-80d5-4db1e89dbca6"
      },
      "source": [
        "a = a - 1\n",
        "a"
      ],
      "execution_count": null,
      "outputs": [
        {
          "output_type": "execute_result",
          "data": {
            "text/plain": [
              "array([[1, 1, 1],\n",
              "       [1, 1, 1]])"
            ]
          },
          "metadata": {
            "tags": []
          },
          "execution_count": 19
        }
      ]
    },
    {
      "cell_type": "code",
      "metadata": {
        "id": "Cu5nGGO9ytem",
        "colab": {
          "base_uri": "https://localhost:8080/"
        },
        "outputId": "e9e61ff1-92b8-4414-894f-d4ad4056dcee"
      },
      "source": [
        "a = a + np.ones_like(a) / 5\n",
        "a"
      ],
      "execution_count": null,
      "outputs": [
        {
          "output_type": "execute_result",
          "data": {
            "text/plain": [
              "array([[1.2, 1.2, 1.2],\n",
              "       [1.2, 1.2, 1.2]])"
            ]
          },
          "metadata": {
            "tags": []
          },
          "execution_count": 20
        }
      ]
    },
    {
      "cell_type": "code",
      "metadata": {
        "id": "SkjOyi8dy3Up",
        "colab": {
          "base_uri": "https://localhost:8080/"
        },
        "outputId": "f1eca4cb-84dc-4994-dbf9-f272fd6de96f"
      },
      "source": [
        "print(\"Pointwise multiplication:\\n\", a * np.ones_like(a) * 2 )\n",
        "print(\"Dot Product (matrix multiplication)\\n\", np.dot(a.T, np.ones_like(a) * 2))"
      ],
      "execution_count": null,
      "outputs": [
        {
          "output_type": "stream",
          "text": [
            "Pointwise multiplication:\n",
            " [[9.6 9.6 9.6]\n",
            " [9.6 9.6 9.6]]\n",
            "Dot Product (matrix multiplication)\n",
            " [[19.2 19.2 19.2]\n",
            " [19.2 19.2 19.2]\n",
            " [19.2 19.2 19.2]]\n"
          ],
          "name": "stdout"
        }
      ]
    },
    {
      "cell_type": "markdown",
      "metadata": {
        "id": "Fb9P_gnFwX5G"
      },
      "source": [
        "## Linear Algebra\n",
        "numpy has implementations of some of the most common algebraic operations.\n",
        "The most common one, the dot product is implemented both as a method of the array object and as a numpy function."
      ]
    },
    {
      "cell_type": "markdown",
      "metadata": {
        "id": "jRU8_wZFwX5H"
      },
      "source": [
        "Matrix multiplication can be performed either using the dot product or `np.matmul`. Using functions from numpy you can \n",
        "- find eigenvalues and eigenvectors, \n",
        "- compute some decompositions (QR, SVD), \n",
        "- compute determinant of a matrix, \n",
        "- norm of a vector,\n",
        "- solve a linear system\n",
        "- invert a matrix\n",
        "\n",
        "See [the documentation](https://docs.scipy.org/doc/numpy-1.13.0/reference/routines.linalg.html)"
      ]
    },
    {
      "cell_type": "markdown",
      "metadata": {
        "id": "yxH-ebdLAxA5"
      },
      "source": [
        "# Matplotlib\n",
        "\n",
        "Matplotlib is a comprehensive library for creating static, animated, and interactive visualizations in Python. Almost all python plotting frameworks make use of matplotlib behind the scenes. \n",
        "\n",
        "Plotting data is an effective way to convey the message hidden in the data. A good plot is worth a thousand words, and it can be difficult to unambiguously transmit your intended message. Different types of plots that represent the same data (i.e. scatter plots, linear plots, bar plots, pie charts etc.) can be perceived differently depending on who's looking.\n",
        "\n",
        "Check out this article for some tips on better plotting:\n",
        "\n",
        "[Ten Simple Rules for Better Figures](https://journals.plos.org/ploscompbiol/article?id=10.1371/journal.pcbi.1003833)\n",
        "\n",
        "**NB:** Do note that, regardless of the type of plot and data, ***all*** plots must have properly annotated axis ticks, axis labels, a title and a caption.\n",
        "\n",
        "\n",
        "For a more comprehensive tutorial on matplotlib, check out this resource:\n",
        "\n",
        "[Matplotlib Tutorial – A Complete Guide to Python Plot w/ Examples](https://www.machinelearningplus.com/plots/matplotlib-tutorial-complete-guide-python-plot-examples/)\n"
      ]
    },
    {
      "cell_type": "code",
      "metadata": {
        "id": "OqLVip8OQKU_"
      },
      "source": [
        "import matplotlib.pyplot as plt\n",
        "%matplotlib inline"
      ],
      "execution_count": 13,
      "outputs": []
    },
    {
      "cell_type": "markdown",
      "metadata": {
        "id": "6tXnUJYlTpnr"
      },
      "source": [
        "## The elements of a plot\n",
        "\n",
        "### The figure and the axes\n",
        "The figure is the entire image, the individual plots are called \"axes\". Here's a description from matplotlib's documentation."
      ]
    },
    {
      "cell_type": "markdown",
      "metadata": {
        "id": "hJ5bGCm6Tpnr"
      },
      "source": [
        "![](https://matplotlib.org/_images/anatomy1.png)"
      ]
    },
    {
      "cell_type": "markdown",
      "metadata": {
        "id": "Bxl4YfmYtjjW"
      },
      "source": [
        "# Scatter & Line Plots\n",
        "\n",
        "Scatter plots are used to plot data points on horizontal and vertical axis in the attempt to show how much one variable is affected by another. Each row in the data table is represented by a marker the position depends on its values in the columns set on the X and Y axes. A third variable can be set to correspond to the color or size of the markers, thus adding yet another dimension to the plot.\n",
        "\n",
        "\n",
        "We will plot a simple regression line with generated data."
      ]
    },
    {
      "cell_type": "code",
      "metadata": {
        "id": "71Q0TKBUtnIN"
      },
      "source": [
        "M = 10\n",
        "N = 5\n",
        "\n",
        "X = np.random.random(size = 100)\n",
        "y_true = M * X + N\n",
        "\n",
        "y_noise = y_true + np.random.normal(size = 100)"
      ],
      "execution_count": null,
      "outputs": []
    },
    {
      "cell_type": "code",
      "metadata": {
        "id": "uQzjGu9qxeiL",
        "colab": {
          "base_uri": "https://localhost:8080/",
          "height": 458
        },
        "outputId": "42eddfa6-381e-4815-d4f7-46a3bdedf1a7"
      },
      "source": [
        "plt.plot(X, y_true)\n",
        "plt.xlim(-0.2, 1.2)\n",
        "plt.ylim(0, 20)\n",
        "\n",
        "plt.xlabel(\"X\")\n",
        "plt.ylabel(\"y true\")\n",
        "\n",
        "plt.title(\"Simple Scatter Plot for Generated Data\")\n",
        "plt.gcf().set_size_inches(14, 7)\n"
      ],
      "execution_count": null,
      "outputs": [
        {
          "output_type": "display_data",
          "data": {
            "image/png": "[encoded data removed]",
            "text/plain": [
              "<Figure size 1008x504 with 1 Axes>"
            ]
          },
          "metadata": {
            "tags": [],
            "needs_background": "light"
          }
        }
      ]
    },
    {
      "cell_type": "code",
      "metadata": {
        "id": "QZMSE0oHwl8-",
        "colab": {
          "base_uri": "https://localhost:8080/",
          "height": 313
        },
        "outputId": "7e5651af-e666-4406-d837-a45767144d0a"
      },
      "source": [
        "plt.scatter(X, y_noise)\n",
        "plt.xlim(-0.2, 1.2)\n",
        "plt.ylim(0, 20)\n",
        "\n",
        "plt.xlabel(\"X\")\n",
        "plt.ylabel(\"y_noise\")\n",
        "\n",
        "plt.title(\"Simple Scatter Plot for Generated Data\")"
      ],
      "execution_count": null,
      "outputs": [
        {
          "output_type": "execute_result",
          "data": {
            "text/plain": [
              "Text(0.5, 1.0, 'Simple Scatter Plot for Generated Data')"
            ]
          },
          "metadata": {
            "tags": []
          },
          "execution_count": 14
        },
        {
          "output_type": "display_data",
          "data": {
            "image/png": "[encoded data removed]",
            "text/plain": [
              "<Figure size 432x288 with 1 Axes>"
            ]
          },
          "metadata": {
            "tags": [],
            "needs_background": "light"
          }
        }
      ]
    },
    {
      "cell_type": "markdown",
      "metadata": {
        "id": "OiMONoM_xrSr"
      },
      "source": [
        "We can plot the two variables one on top of the other, for a better visualization. Make sure to add a legend, and different coloring, such that it is clear which part of the plot belongs to which set of variables.\n",
        "\n",
        "Matplotlib also offers a wide range of **markers** to better differentiate between multiple data categories. Check https://matplotlib.org/api/markers_api.html for a full list."
      ]
    },
    {
      "cell_type": "code",
      "metadata": {
        "id": "XLwjoLAZxyy4",
        "colab": {
          "base_uri": "https://localhost:8080/",
          "height": 458
        },
        "outputId": "cb33d2a6-2dd9-4b50-9f22-4f722f68d1a1"
      },
      "source": [
        "plt.scatter(X, y_noise, label = 'noise', marker = '<')\n",
        "plt.plot(X, y_true, color = 'r', label = 'true', linestyle = 'dashed', linewidth = 1)\n",
        "\n",
        "plt.xlim(-0.2, 1.2)\n",
        "plt.ylim(0, 20)\n",
        "\n",
        "plt.xlabel(\"X\")\n",
        "plt.ylabel(\"t\")\n",
        "\n",
        "plt.title(\"Simple Scatter Plot for Generated Data\")\n",
        "plt.legend()\n",
        "plt.gcf().set_size_inches(14, 7)"
      ],
      "execution_count": null,
      "outputs": [
        {
          "output_type": "display_data",
          "data": {
            "image/png": "[encoded data removed]",
            "text/plain": [
              "<Figure size 1008x504 with 1 Axes>"
            ]
          },
          "metadata": {
            "tags": [],
            "needs_background": "light"
          }
        }
      ]
    },
    {
      "cell_type": "markdown",
      "metadata": {
        "id": "4SElb6tPtqIq"
      },
      "source": [
        "# Bar Plots\n",
        "\n",
        "A bar chart or bar graph is a chart or graph that presents categorical data with rectangular bars with heights or lengths proportional to the values that they represent. The bars can be plotted vertically or horizontally.\n",
        "\n",
        "A bar graph shows comparisons among discrete categories. One axis of the chart shows the specific categories being compared, and the other axis represents a measured value."
      ]
    },
    {
      "cell_type": "code",
      "metadata": {
        "id": "JkFzBkxZtsSw",
        "colab": {
          "base_uri": "https://localhost:8080/",
          "height": 442
        },
        "outputId": "de27ecd8-ff2e-4a63-f61c-6a57848d2ca1"
      },
      "source": [
        "languages = ['C', 'C++', 'Java', 'Python', 'PHP']\n",
        "students = [10, 12, 35, 32, 5]\n",
        "\n",
        "ax = plt.subplot()\n",
        "ax.bar(languages, students)\n",
        "\n",
        "plt.xlabel('Programming Language')\n",
        "plt.ylabel(\"Number of favorites among students\")\n",
        "plt.gcf().set_size_inches(14, 7)"
      ],
      "execution_count": null,
      "outputs": [
        {
          "output_type": "display_data",
          "data": {
            "image/png": "[encoded data removed]",
            "text/plain": [
              "<Figure size 1008x504 with 1 Axes>"
            ]
          },
          "metadata": {
            "tags": [],
            "needs_background": "light"
          }
        }
      ]
    },
    {
      "cell_type": "markdown",
      "metadata": {
        "id": "ovdwdeWGyoms"
      },
      "source": [
        "We can make multiple bars for each category. It makes it easier for comparing different quantities with a common category."
      ]
    },
    {
      "cell_type": "code",
      "metadata": {
        "id": "dy0_nZ-zy0qT",
        "colab": {
          "base_uri": "https://localhost:8080/",
          "height": 458
        },
        "outputId": "afb7371b-52d0-434d-92a3-9a0cec19f1e8"
      },
      "source": [
        "data = [\n",
        "  [30, 25, 50, 20],\n",
        "  [40, 23, 51, 17],\n",
        "  [35, 22, 45, 19]\n",
        "]\n",
        "\n",
        "X = np.arange(4)\n",
        "ax = plt.subplot()\n",
        "\n",
        "ax.bar(X + 0.00, data[0], color = 'b', width = 0.25, label = 'CS')\n",
        "ax.bar(X + 0.25, data[1], color = 'g', width = 0.25, label = 'IT')\n",
        "ax.bar(X + 0.50, data[2], color = 'r', width = 0.25, label = 'E & TC')\n",
        "\n",
        "ax.set_xticks(X + 0.25)\n",
        "ax.set_xticklabels(X + 2017)\n",
        "\n",
        "plt.xlabel(\"Year\")\n",
        "plt.ylabel(\"Number of students\")\n",
        "plt.title(\"Number of students for each departament over the years.\")\n",
        "ax.legend()\n",
        "plt.gcf().set_size_inches(14, 7)"
      ],
      "execution_count": null,
      "outputs": [
        {
          "output_type": "display_data",
          "data": {
            "image/png": "[encoded data removed]",
            "text/plain": [
              "<Figure size 1008x504 with 1 Axes>"
            ]
          },
          "metadata": {
            "tags": [],
            "needs_background": "light"
          }
        }
      ]
    },
    {
      "cell_type": "markdown",
      "metadata": {
        "id": "FyOjKDkTtsoW"
      },
      "source": [
        "# Box Plots\n",
        "\n",
        "A boxplot is a standardized way of displaying the distribution of data based on a five number summary (“minimum”, first quartile (Q1), median, third quartile (Q3), and “maximum”). It can tell you about your outliers and what their values are. It can also tell you if your data is symmetrical, how tightly your data is grouped, and if and how your data is skewed.\n"
      ]
    },
    {
      "cell_type": "code",
      "metadata": {
        "id": "KblcpI3St91n",
        "colab": {
          "base_uri": "https://localhost:8080/",
          "height": 444
        },
        "outputId": "60611667-67b8-4147-9581-2a931ed46a72"
      },
      "source": [
        "data = np.random.normal(size = 100, scale = 3.0, loc = 1.0)\n",
        "\n",
        "ax = plt.subplot()\n",
        "ax.boxplot([data, data ** 2, data * 2])\n",
        "\n",
        "plt.title(\"Box plots for skewed normal distributions.\")\n",
        "plt.gcf().set_size_inches(14, 7)"
      ],
      "execution_count": null,
      "outputs": [
        {
          "output_type": "display_data",
          "data": {
            "image/png": "[encoded data removed]",
            "text/plain": [
              "<Figure size 1008x504 with 1 Axes>"
            ]
          },
          "metadata": {
            "tags": [],
            "needs_background": "light"
          }
        }
      ]
    },
    {
      "cell_type": "markdown",
      "metadata": {
        "id": "DtHVUsGMP9Dg"
      },
      "source": [
        "# Exercises\n",
        "\n",
        "After you finish your lab exercises, you should export this notebook as **pdf** and upload it to Moodle. (i.e. **File -> Print**, Destination: Save as PDF)."
      ]
    },
    {
      "cell_type": "markdown",
      "metadata": {
        "id": "DcALfnbSW98l"
      },
      "source": [
        "## 1. System of linear equations\n",
        "\n",
        "Using numpy, solve the following linear equation:\n",
        "\n"
      ]
    },
    {
      "cell_type": "markdown",
      "metadata": {
        "id": "LlnFf_e7XsRS"
      },
      "source": [
        "$\\begin{bmatrix}\n",
        "   1 & 2 & 3.3 & 2 \\\\\n",
        "   3 & 3.6 & 7 & 0 \\\\\n",
        "   1 & 3 & -1 & 12 \\\\\n",
        "   2 & 11 & 4 & 16\n",
        "\\end{bmatrix}\n",
        "\\begin{bmatrix}\n",
        "   x_1 \\\\\n",
        "   x_2 \\\\\n",
        "   x_3 \\\\\n",
        "   x_4\n",
        "\\end{bmatrix}=\\begin{bmatrix}\n",
        "   10 \\\\\n",
        "   15 \\\\\n",
        "   3 \\\\\n",
        "   -1\n",
        "\\end{bmatrix}$"
      ]
    },
    {
      "cell_type": "code",
      "metadata": {
        "id": "93zy_EQdXuvz",
        "colab": {
          "base_uri": "https://localhost:8080/",
          "height": 0
        },
        "outputId": "362313f9-870f-4fae-f381-f8bde2d77d58"
      },
      "source": [
        "# Your code here\n",
        "# A * x = b\n",
        "A = np.array([[1, 2, 3.3, 2], [3, 3.6, 7, 0], [1, 3, -1, 12], [2, 11, 4, 16]])\n",
        "b = np.array([[10], [15], [3], [-1]])\n",
        "X = np.linalg.solve(A, b)\n",
        "print(X)\n",
        "\n"
      ],
      "execution_count": 7,
      "outputs": [
        {
          "output_type": "stream",
          "name": "stdout",
          "text": [
            "[[-1.28937298]\n",
            " [-4.34942596]\n",
            " [ 4.9322932 ]\n",
            " [ 1.85582867]]\n"
          ]
        }
      ]
    },
    {
      "cell_type": "markdown",
      "metadata": {
        "id": "XvjRHIdrqqcv"
      },
      "source": [
        "## 2. Simple numpy exercises\n",
        "\n",
        "1. Given an matrix, calculate the sum for each row\n",
        "\n",
        "2. Given an vector, normalize the vector using the $l_{10}$ norm"
      ]
    },
    {
      "cell_type": "code",
      "metadata": {
        "id": "HfPsZrWeq8s4",
        "colab": {
          "base_uri": "https://localhost:8080/",
          "height": 0
        },
        "outputId": "a40ba8a8-82df-49cd-a896-33a910bb67da"
      },
      "source": [
        "M = np.array([\n",
        "    [1, 2, 3],\n",
        "    [9, 3, 10],\n",
        "    [3, 5, 0],\n",
        "    [1, 7, -3],\n",
        "    [0, -2, 3],\n",
        "    \n",
        "])\n",
        "\n",
        "v = np.array([100, 2302, 2, -10, 134, -1])\n",
        "\n",
        "# Your code here\n",
        "# ex 1\n",
        "sum = np.sum(M, axis=1)\n",
        "print(sum)\n",
        "\n",
        "# ex 2\n",
        "norma = np.linalg.norm(v, 10)\n",
        "print(norma)"
      ],
      "execution_count": 9,
      "outputs": [
        {
          "output_type": "stream",
          "name": "stdout",
          "text": [
            "[ 6 22  8  5  1]\n",
            "2302.000000000109\n"
          ]
        }
      ]
    },
    {
      "cell_type": "markdown",
      "metadata": {
        "id": "L-pwC7nSthjB"
      },
      "source": [
        "## 3. Harder numpy exercises\n",
        "\n",
        "Using the matrix and vector defined above:\n",
        "\n",
        "1. Subtract the mean of each column in a given matrix.\n",
        "\n",
        "2. Get the 3rd largest value in an array.\n"
      ]
    },
    {
      "cell_type": "code",
      "metadata": {
        "id": "HYC88tjDtkoF",
        "colab": {
          "base_uri": "https://localhost:8080/",
          "height": 0
        },
        "outputId": "b1563a5c-9e8f-484d-db49-efbe1cd12ac5"
      },
      "source": [
        "# Your code here\n",
        "# ex 1\n",
        "res = M - M.mean(axis=0)\n",
        "print(res)\n",
        "\n",
        "# ex 2\n",
        "sorted = np.sort(v)\n",
        "print(sorted[-3])"
      ],
      "execution_count": 11,
      "outputs": [
        {
          "output_type": "stream",
          "name": "stdout",
          "text": [
            "[[-1.8 -1.   0.4]\n",
            " [ 6.2  0.   7.4]\n",
            " [ 0.2  2.  -2.6]\n",
            " [-1.8  4.  -5.6]\n",
            " [-2.8 -5.   0.4]]\n",
            "100\n"
          ]
        }
      ]
    },
    {
      "cell_type": "markdown",
      "metadata": {
        "id": "DwxnUyZVZ0rc"
      },
      "source": [
        "## 4. Plot some functions\n",
        "Using numpy and matplotlib, plot the following functions (you can choose the colors and styling, interval of interest and other parameters):\n",
        "\n",
        "$f_1(x) = max(0, x)$\n",
        "\n",
        "$f_2(x) = \\frac{e^{2x} - 1}{e^{2x} + 1}$\n",
        "\n",
        "$f_3(x) = \\frac{1}{1 + e^{-x}}$\n",
        "\n",
        "$f_4(x) = \\frac{1}{\\mu^2 + 1}*e^{-\\frac{(x - \\mu)^2}{b^2}}$\n",
        "\n",
        "$f_5(x) = 0.5x (1 + tanh(0.797885x + 0.035677x^3))$\n",
        "\n",
        "Note that all plots should have relevant ticks, labels and a title.  "
      ]
    },
    {
      "cell_type": "code",
      "metadata": {
        "id": "xjHoRuKEbY3j",
        "colab": {
          "base_uri": "https://localhost:8080/",
          "height": 1000
        },
        "outputId": "8c543509-d2ce-4a6b-a84c-d766894a0f0f"
      },
      "source": [
        "\n",
        "# ca sa le testez, le am comentat pe rand sa ruleze separat\n",
        "# f1\n",
        "x1 = np.linspace(-10, 30, 50)\n",
        "y1 = np.maximum(0, x1)\n",
        "plt.figure()\n",
        "plt.title('Functia 1')\n",
        "plt.plot(x1, y1, 'r')\n",
        "plt.xlabel('x')\n",
        "plt.ylabel('f1(x)')\n",
        "\n",
        "# f2\n",
        "x = np.linspace(-10, 10, 30)\n",
        "y = (np.power(np.e, 2*x) - 1) / (np.power(np.e, 2*x) + 1)\n",
        "plt.figure()\n",
        "plt.title('Functia 2')\n",
        "plt.plot(x, y, 'b')\n",
        "plt.xlabel('x')\n",
        "plt.ylabel('f2(x)')\n",
        "\n",
        "# f3\n",
        "x = np.linspace(-10, 10, 40)\n",
        "y = 1 / (1 + np.power(np.e, -x))\n",
        "plt.figure()\n",
        "plt.title('Functia 3')\n",
        "plt.plot(x, y, 'g')\n",
        "plt.xlabel('x')\n",
        "plt.ylabel('f3(x)')\n",
        "\n",
        "# f4\n",
        "miu = 0.5\n",
        "b = 0.5\n",
        "x = np.linspace(-10, 10, 80)\n",
        "y = (1 / (miu ** 2 + 1)) * np.power(np.e, -((x - miu) ** 2) / (b ** 2))\n",
        "plt.figure()\n",
        "plt.title('Functia 4')\n",
        "plt.plot(x, y, 'y')\n",
        "plt.xlabel('x')\n",
        "plt.ylabel('f4(x)')\n",
        "\n",
        "# f5\n",
        "x = np.linspace(-5, 5, 30)\n",
        "y = 0.5 * x * (1 + np.tanh(0.797885 * x + 0.035677 * (x ** 3)))\n",
        "plt.figure()\n",
        "plt.title('Functia 5')\n",
        "plt.plot(x, y, 'c')\n",
        "plt.xlabel('x')\n",
        "plt.ylabel('f5(x)')\n"
      ],
      "execution_count": 27,
      "outputs": [
        {
          "output_type": "execute_result",
          "data": {
            "text/plain": [
              "Text(0, 0.5, 'f5(x)')"
            ]
          },
          "metadata": {},
          "execution_count": 27
        },
        {
          "output_type": "display_data",
          "data": {
            "image/png": "[encoded data removed]",
            "text/plain": [
              "<Figure size 432x288 with 1 Axes>"
            ]
          },
          "metadata": {
            "needs_background": "light"
          }
        },
        {
          "output_type": "display_data",
          "data": {
            "image/png": "[encoded data removed]",
            "text/plain": [
              "<Figure size 432x288 with 1 Axes>"
            ]
          },
          "metadata": {
            "needs_background": "light"
          }
        },
        {
          "output_type": "display_data",
          "data": {
            "image/png": "[encoded data removed]",
            "text/plain": [
              "<Figure size 432x288 with 1 Axes>"
            ]
          },
          "metadata": {
            "needs_background": "light"
          }
        },
        {
          "output_type": "display_data",
          "data": {
            "image/png": "[encoded data removed]",
            "text/plain": [
              "<Figure size 432x288 with 1 Axes>"
            ]
          },
          "metadata": {
            "needs_background": "light"
          }
        },
        {
          "output_type": "display_data",
          "data": {
            "image/png": "[encoded data removed]",
            "text/plain": [
              "<Figure size 432x288 with 1 Axes>"
            ]
          },
          "metadata": {
            "needs_background": "light"
          }
        }
      ]
    },
    {
      "cell_type": "markdown",
      "metadata": {
        "id": "MnKxMz12d_dP"
      },
      "source": [
        "## 5. Prettify Plot\n",
        "\n",
        "Given the below plot, make it look presentable. Add **square** markers to scatter plots, **dashdotted** lines, add relevant axis **limits** and **ticks**, a **legend** and a **title**. \n",
        "\n",
        "**NB**: A plot should be self-contained. Any reader should understand it without have to refer to its text description. \n"
      ]
    },
    {
      "cell_type": "code",
      "metadata": {
        "id": "jDpoCyC23nxw",
        "colab": {
          "base_uri": "https://localhost:8080/",
          "height": 475
        },
        "outputId": "5c3f76cc-a749-46dd-81e7-e34d4e85a5d5"
      },
      "source": [
        "# Data Synthetization\n",
        "x1 = np.linspace(0.0, 5.0)\n",
        "x2 = np.linspace(0.0, 2.0)\n",
        "\n",
        "y1 = np.cos(2 * np.pi * x1) * np.exp(-x1)\n",
        "y2 = np.cos(2 * np.pi * x2)\n",
        "y3 = np.cos(1 * np.pi * x1) * np.exp(-0.5 * x1) + 0.3 * np.random.random(size = x1.shape)\n",
        "\n",
        "# Plotting code\n",
        "# TODO make this pretty.\n",
        "\n",
        "fig, (ax1, ax2) = plt.subplots(2, 1)\n",
        "\n",
        "ax1.plot(x1, y1, '-.', label='harmonic')\n",
        "#ax1.plot(x1, y1)\n",
        "ax1.scatter(x1, y3, marker='s', label='harmonic + random')\n",
        "ax1.get_xaxis().set_ticks([0, 1, 2, 3, 4, 5])\n",
        "ax1.get_yaxis().set_ticks([1, 0, -1])\n",
        "ax1.set_title('Oscillations')\n",
        "ax1.set_xlabel('time(s)')\n",
        "ax1.set_ylabel('Damped Harmonic Oscillation')\n",
        "ax1.legend()\n",
        "\n",
        "ax2.plot(x2, y2)\n",
        "ax2.set_xlim(0, 2)\n",
        "ax2.get_xaxis().set_ticks([0, 1, 2])\n",
        "ax2.get_yaxis().set_ticks([1, 0, -1])\n",
        "ax2.set_xlabel('time(s)')\n",
        "ax2.set_ylabel('Undamped oscillation')\n",
        "\n",
        "ax1.legend()\n",
        "ax2.legend()\n",
        "plt.gcf().set_size_inches(14, 7)"
      ],
      "execution_count": 70,
      "outputs": [
        {
          "output_type": "stream",
          "name": "stderr",
          "text": [
            "No handles with labels found to put in legend.\n"
          ]
        },
        {
          "output_type": "display_data",
          "data": {
            "image/png": "[encoded data removed]",
            "text/plain": [
              "<Figure size 1008x504 with 2 Axes>"
            ]
          },
          "metadata": {
            "needs_background": "light"
          }
        }
      ]
    },
    {
      "cell_type": "markdown",
      "metadata": {
        "id": "G4w2ezI9OnO4"
      },
      "source": [
        "# 6. Plotting a dataset\n",
        "\n",
        "Plot different aspects of the Wine Dataset from sklearn. These data are the results of a chemical analysis of wines grown in the same region in Italy but derived from three different cultivars.\n",
        "\n",
        "**6.1** Create a plot for visualizing the distribution of one features (e.g. alchohol level / malic acid / ash etc.) for each class of wine.\n",
        "\n",
        "**6.2** Create 3 subplots highlighting different aspects of the dataset. Choose the appropriate plot types (scatter plot, line plot, bar plot, box plot etc.). You can choose various combinations of columns to gain a better understanding of this dataset.\n",
        "\n",
        "Be creative! You can color your points using the `target` array. Remember to always have labels on your axes, appropriate ticks, a legend where necessary, and a plot title."
      ]
    },
    {
      "cell_type": "code",
      "metadata": {
        "id": "hs083diVnNwD",
        "colab": {
          "base_uri": "https://localhost:8080/",
          "height": 1000
        },
        "outputId": "ff286c7a-2bf2-478a-fc2c-d6ad68a31cf1"
      },
      "source": [
        "from sklearn.datasets import load_wine\n",
        "from matplotlib import colors\n",
        "\n",
        "wine_dataset = load_wine()\n",
        "\n",
        "data = wine_dataset['data']\n",
        "target = wine_dataset['target']\n",
        "\n",
        "column_names = wine_dataset['feature_names']\n",
        "print(column_names)\n",
        "\n",
        "# TODO your code here - la fel, le am comentat si am testat pe rand\n",
        "# alcohol distribution\n",
        "\n",
        "y = np.array(data[:, 0])\n",
        "N, bins, patches = plt.hist(y)\n",
        "calc = N / N.max()\n",
        "norma = colors.Normalize(calc.min(), calc.max())\n",
        "\n",
        "for current_calc, current_patch in zip(calc, patches):\n",
        "  color = plt.cm.plasma(np.linalg.norm(current_calc))\n",
        "  current_patch.set_facecolor(color)\n",
        "\n",
        "plt.figure(1)\n",
        "plt.title('Alcohol distribution per categories - nr of wines')\n",
        "plt.xlabel('Concentration')\n",
        "plt.ylabel('Number of wines')\n",
        "plt.legend()\n",
        "\n",
        "# acidu malic\n",
        "y1 = np.array(data[:, 1])\n",
        "unique, counts = np.unique(y1, return_counts=True)\n",
        "plt.figure(2)\n",
        "plt.title('Malic acid')\n",
        "plt.xlabel('Concentration')\n",
        "plt.ylabel('Number of wines')\n",
        "plt.scatter(unique, counts)\n",
        "\n",
        "# proline\n",
        "plt.figure(3)\n",
        "y2 = np.array(data[:, 12])\n",
        "N2, bins2, patches2 = plt.hist(y2)\n",
        "\n",
        "calc2 = N2 / N2.max()\n",
        "norma2 = colors.Normalize(calc2.min(), calc2.max())\n",
        "\n",
        "for current_calc, current_patch in zip(calc2, patches2):\n",
        "  color = plt.cm.magma(np.linalg.norm(current_calc))\n",
        "  current_patch.set_facecolor(color)\n",
        "\n",
        "plt.title('Proline')\n",
        "plt.xlabel('Concentration')\n",
        "plt.ylabel('Number of wines')\n",
        "\n",
        "# color intensity\n",
        "\n",
        "plt.figure(4)\n",
        "y3 = np.array(data[:, 9])\n",
        "unique3, counts3 = np.unique(y3, return_counts=True)\n",
        "plt.title('Color intensity histogram')\n",
        "plt.xlabel('Color intensity')\n",
        "plt.ylabel('Number of wines')\n",
        "plt.scatter(unique3, counts3)\n",
        "\n",
        "\n"
      ],
      "execution_count": 68,
      "outputs": [
        {
          "output_type": "stream",
          "name": "stderr",
          "text": [
            "No handles with labels found to put in legend.\n"
          ]
        },
        {
          "output_type": "stream",
          "name": "stdout",
          "text": [
            "['alcohol', 'malic_acid', 'ash', 'alcalinity_of_ash', 'magnesium', 'total_phenols', 'flavanoids', 'nonflavanoid_phenols', 'proanthocyanins', 'color_intensity', 'hue', 'od280/od315_of_diluted_wines', 'proline']\n"
          ]
        },
        {
          "output_type": "execute_result",
          "data": {
            "text/plain": [
              "<matplotlib.collections.PathCollection at 0x7fdcc201c990>"
            ]
          },
          "metadata": {},
          "execution_count": 68
        },
        {
          "output_type": "display_data",
          "data": {
            "image/png": "[encoded data removed]",
            "text/plain": [
              "<Figure size 432x288 with 1 Axes>"
            ]
          },
          "metadata": {
            "needs_background": "light"
          }
        },
        {
          "output_type": "display_data",
          "data": {
            "image/png": "[encoded data removed]",
            "text/plain": [
              "<Figure size 432x288 with 1 Axes>"
            ]
          },
          "metadata": {
            "needs_background": "light"
          }
        },
        {
          "output_type": "display_data",
          "data": {
            "image/png": "[encoded data removed]",
            "text/plain": [
              "<Figure size 432x288 with 1 Axes>"
            ]
          },
          "metadata": {
            "needs_background": "light"
          }
        },
        {
          "output_type": "display_data",
          "data": {
            "image/png": "[encoded data removed]",
            "text/plain": [
              "<Figure size 432x288 with 1 Axes>"
            ]
          },
          "metadata": {
            "needs_background": "light"
          }
        }
      ]
    }
  ]
}